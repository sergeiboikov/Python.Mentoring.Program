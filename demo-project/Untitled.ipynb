{
 "cells": [
  {
   "cell_type": "code",
   "execution_count": 1,
   "id": "cb68a4ab",
   "metadata": {},
   "outputs": [],
   "source": [
    "import pandas as pd"
   ]
  },
  {
   "cell_type": "code",
   "execution_count": 28,
   "id": "f839e6f3",
   "metadata": {},
   "outputs": [
    {
     "data": {
      "text/html": [
       "<div>\n",
       "<style scoped>\n",
       "    .dataframe tbody tr th:only-of-type {\n",
       "        vertical-align: middle;\n",
       "    }\n",
       "\n",
       "    .dataframe tbody tr th {\n",
       "        vertical-align: top;\n",
       "    }\n",
       "\n",
       "    .dataframe thead th {\n",
       "        text-align: right;\n",
       "    }\n",
       "</style>\n",
       "<table border=\"1\" class=\"dataframe\">\n",
       "  <thead>\n",
       "    <tr style=\"text-align: right;\">\n",
       "      <th></th>\n",
       "      <th>AGENCY</th>\n",
       "      <th>MEDIA</th>\n",
       "      <th>CLIENT</th>\n",
       "      <th>SERIAL</th>\n",
       "      <th>PRODUCT</th>\n",
       "      <th>PUBNUMBER</th>\n",
       "      <th>PUBZONE</th>\n",
       "      <th>PUBEDITION</th>\n",
       "      <th>INSERTIONDATE</th>\n",
       "      <th>ESTIMATE</th>\n",
       "      <th>...</th>\n",
       "      <th>EntryType</th>\n",
       "      <th>RateType</th>\n",
       "      <th>SpecialRep</th>\n",
       "      <th>PayRep</th>\n",
       "      <th>CreationDate</th>\n",
       "      <th>FXCODE</th>\n",
       "      <th>FXRATE</th>\n",
       "      <th>LastActivityDate</th>\n",
       "      <th>PID</th>\n",
       "      <th>Insertion_Matching_Status</th>\n",
       "    </tr>\n",
       "  </thead>\n",
       "  <tbody>\n",
       "    <tr>\n",
       "      <th>0</th>\n",
       "      <td>H7</td>\n",
       "      <td>O</td>\n",
       "      <td>DPK</td>\n",
       "      <td>1091</td>\n",
       "      <td>BAT</td>\n",
       "      <td>PN-130000</td>\n",
       "      <td></td>\n",
       "      <td></td>\n",
       "      <td>2021-03-29 00:00:00</td>\n",
       "      <td>4</td>\n",
       "      <td>...</td>\n",
       "      <td></td>\n",
       "      <td>R</td>\n",
       "      <td>(NULL)</td>\n",
       "      <td></td>\n",
       "      <td>2021-02-18 00:00:00</td>\n",
       "      <td></td>\n",
       "      <td>0.0</td>\n",
       "      <td>2021-05-06 00:00:00</td>\n",
       "      <td>(NULL)</td>\n",
       "      <td>N</td>\n",
       "    </tr>\n",
       "  </tbody>\n",
       "</table>\n",
       "<p>1 rows × 52 columns</p>\n",
       "</div>"
      ],
      "text/plain": [
       "  AGENCY MEDIA CLIENT  SERIAL PRODUCT  PUBNUMBER PUBZONE PUBEDITION  \\\n",
       "0     H7     O    DPK    1091     BAT  PN-130000                      \n",
       "\n",
       "         INSERTIONDATE  ESTIMATE  ...  EntryType RateType SpecialRep PayRep  \\\n",
       "0  2021-03-29 00:00:00         4  ...                   R     (NULL)          \n",
       "\n",
       "          CreationDate FXCODE FXRATE     LastActivityDate     PID  \\\n",
       "0  2021-02-18 00:00:00           0.0  2021-05-06 00:00:00  (NULL)   \n",
       "\n",
       "   Insertion_Matching_Status  \n",
       "0                          N  \n",
       "\n",
       "[1 rows x 52 columns]"
      ]
     },
     "execution_count": 28,
     "metadata": {},
     "output_type": "execute_result"
    }
   ],
   "source": [
    "df = pd.read_csv('D:\\Projects\\Matrix\\DataObfuscator\\ppsbuy.csv', sep='\u0001')\n",
    "df.head()"
   ]
  },
  {
   "cell_type": "code",
   "execution_count": 25,
   "id": "a5e18eb9",
   "metadata": {},
   "outputs": [],
   "source": [
    "df.loc[:, 'PLANNEDCOST'] = 0"
   ]
  },
  {
   "cell_type": "code",
   "execution_count": 26,
   "id": "8992eada",
   "metadata": {},
   "outputs": [],
   "source": [
    "df.to_csv(\"D:\\Projects\\Matrix\\DataObfuscator\\ppsbuy1.csv\", index=False, sep='\u0001')"
   ]
  }
 ],
 "metadata": {
  "kernelspec": {
   "display_name": "Python 3",
   "language": "python",
   "name": "python3"
  },
  "language_info": {
   "codemirror_mode": {
    "name": "ipython",
    "version": 3
   },
   "file_extension": ".py",
   "mimetype": "text/x-python",
   "name": "python",
   "nbconvert_exporter": "python",
   "pygments_lexer": "ipython3",
   "version": "3.9.4"
  }
 },
 "nbformat": 4,
 "nbformat_minor": 5
}
